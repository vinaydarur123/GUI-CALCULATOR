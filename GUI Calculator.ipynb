{
 "cells": [
  {
   "cell_type": "code",
   "execution_count": 1,
   "id": "fe1e84d5",
   "metadata": {},
   "outputs": [
    {
     "name": "stderr",
     "output_type": "stream",
     "text": [
      "C:\\Users\\GR Computers\\AppData\\Local\\Temp\\ipykernel_20964\\2661876513.py:2: DeprecationWarning: The parser module is deprecated and will be removed in future versions of Python\n",
      "  import parser\n"
     ]
    }
   ],
   "source": [
    "from tkinter import *\n",
    "import parser\n",
    "from math import factorial"
   ]
  },
  {
   "cell_type": "code",
   "execution_count": 4,
   "id": "1d95f6a1",
   "metadata": {},
   "outputs": [],
   "source": [
    "root = Tk()\n"
   ]
  },
  {
   "cell_type": "code",
   "execution_count": 5,
   "id": "ddd18be2",
   "metadata": {},
   "outputs": [],
   "source": [
    "#adding the input field\n",
    "display = Entry(root)\n",
    "display.grid(row=10,columnspan=10,sticky=N+E+W+S)\n",
    "\n",
    " \n",
    "#Code to add buttons to the Calculator\n",
    "Button(root,text=\"1\",command = lambda :get_variables(1)).grid(row=2,column=0, sticky=N+S+E+W)\n",
    "Button(root,text=\" 2\",command = lambda :get_variables(2)).grid(row=2,column=1, sticky=N+S+E+W)\n",
    "Button(root,text=\" 3\",command = lambda :get_variables(3)).grid(row=2,column=2, sticky=N+S+E+W)\n",
    " \n",
    "Button(root,text=\"4\",command = lambda :get_variables(4)).grid(row=3,column=0, sticky=N+S+E+W)\n",
    "Button(root,text=\" 5\",command = lambda :get_variables(5)).grid(row=3,column=1, sticky=N+S+E+W)\n",
    "Button(root,text=\" 6\",command = lambda :get_variables(6)).grid(row=3,column=2, sticky=N+S+E+W)\n",
    " \n",
    "Button(root,text=\"7\",command = lambda :get_variables(7)).grid(row=4,column=0, sticky=N+S+E+W)\n",
    "Button(root,text=\" 8\",command = lambda :get_variables(8)).grid(row=4,column=1, sticky=N+S+E+W)\n",
    "Button(root,text=\" 9\",command = lambda :get_variables(9)).grid(row=4,column=2, sticky=N+S+E+W)\n",
    " \n",
    "#adding other buttons to the calculator\n",
    "Button(root,text=\"AC\",command=lambda :clear_all()).grid(row=5,column=0, sticky=N+S+E+W)\n",
    "Button(root,text=\" 0\",command = lambda :get_variables(0)).grid(row=5,column=1, sticky=N+S+E+W)\n",
    "Button(root,text=\" .\",command=lambda :get_variables(\".\")).grid(row=5, column=2, sticky=N+S+E+W)\n",
    " \n",
    " \n",
    "Button(root,text=\"+\",command= lambda :get_operation(\"+\")).grid(row=2,column=3, sticky=N+S+E+W)\n",
    "Button(root,text=\"-\",command= lambda :get_operation(\"-\")).grid(row=3,column=3, sticky=N+S+E+W)\n",
    "Button(root,text=\"\",command= lambda :get_operation(\"\")).grid(row=4,column=3, sticky=N+S+E+W)\n",
    "Button(root,text=\"/\",command= lambda :get_operation(\"/\")).grid(row=5,column=3, sticky=N+S+E+W)\n",
    " \n",
    "# adding new operations\n",
    "Button(root,text=\"pi\",command= lambda :get_operation(\"*3.14\")).grid(row=2,column=4, sticky=N+S+E+W)\n",
    "Button(root,text=\"%\",command= lambda :get_operation(\"%\")).grid(row=3,column=4, sticky=N+S+E+W)\n",
    "Button(root,text=\"(\",command= lambda :get_operation(\"(\")).grid(row=4,column=4, sticky=N+S+E+W)\n",
    "Button(root,text=\"exp\",command= lambda :get_operation(\"**\")).grid(row=5,column=4, sticky=N+S+E+W)\n",
    " \n",
    "Button(root,text=\"<-\",command= lambda :undo()).grid(row=2,column=5, sticky=N+S+E+W)\n",
    "Button(root,text=\"x!\", command= lambda: fact()).grid(row=3,column=5, sticky=N+S+E+W)\n",
    "Button(root,text=\")\",command= lambda :get_operation(\")\")).grid(row=4,column=5, sticky=N+S+E+W)\n",
    "Button(root,text=\"^2\",command= lambda :get_operation(\"**2\")).grid(row=5,column=5, sticky=N+S+E+W)\n",
    "Button(root,text=\"^2\",command= lambda :get_operation(\"**2\")).grid(row=5,column=5, sticky=N+S+E+W)\n",
    "Button(root,text=\"=\",command= lambda :calculate()).grid(columnspan=6, sticky=N+S+E+W)"
   ]
  },
  {
   "cell_type": "code",
   "execution_count": 6,
   "id": "0148dbe1",
   "metadata": {},
   "outputs": [],
   "source": [
    "i = 0\n",
    "# Receives the digit as parameter and display it on the input field\n",
    "def get_variables(num):\n",
    "    global i\n",
    "    display.insert(i,num)\n",
    "    i+=1"
   ]
  },
  {
   "cell_type": "code",
   "execution_count": 7,
   "id": "359aa222",
   "metadata": {},
   "outputs": [],
   "source": [
    "def get_operation(operator):\n",
    "    global i\n",
    "    length = len(operator)\n",
    "    display.insert(i,operator)\n",
    "    i+=length"
   ]
  },
  {
   "cell_type": "code",
   "execution_count": 8,
   "id": "eb9d0943",
   "metadata": {},
   "outputs": [],
   "source": [
    "def clear_all():\n",
    "    display.delete(0,END)"
   ]
  },
  {
   "cell_type": "code",
   "execution_count": 9,
   "id": "536c12de",
   "metadata": {},
   "outputs": [],
   "source": [
    "def undo():\n",
    "    entire_string = display.get()\n",
    "    if len(entire_string):\n",
    "        new_string = entire_string[:-1]\n",
    "        clear_all()\n",
    "        display.insert(0,new_string)\n",
    "    else:\n",
    "        clear_all()\n",
    "        display.insert(0,\"Error\")"
   ]
  },
  {
   "cell_type": "code",
   "execution_count": 10,
   "id": "a0fc4ce8",
   "metadata": {},
   "outputs": [],
   "source": [
    "def calculate():\n",
    "    entire_string = display.get()\n",
    "    try:\n",
    "        a = parser.expr(entire_string).compile()\n",
    "        result = eval(a)\n",
    "        clear_all()\n",
    "        display.insert(0,result)\n",
    "    except Exception:\n",
    "        clear_all()\n",
    "        display.insert(0,\"Error\")"
   ]
  },
  {
   "cell_type": "code",
   "execution_count": 11,
   "id": "fa97403c",
   "metadata": {},
   "outputs": [],
   "source": [
    "def fact():\n",
    "    entire_string = display.get()\n",
    "    try:\n",
    "        result = factorial(int(entire_string))\n",
    "        clear_all()\n",
    "        display.insert(0,result)\n",
    "    except Exception:\n",
    "        clear_all()\n",
    "        display.insert(0,\"Error\")"
   ]
  },
  {
   "cell_type": "code",
   "execution_count": null,
   "id": "f9f24bd9",
   "metadata": {},
   "outputs": [],
   "source": [
    "root = Tk()\n",
    "root.title('DataFlair - Calculator')\n",
    "root.geometry('500x200')\n",
    "root.mainloop()"
   ]
  },
  {
   "cell_type": "code",
   "execution_count": null,
   "id": "cb63d6da",
   "metadata": {},
   "outputs": [],
   "source": []
  },
  {
   "cell_type": "code",
   "execution_count": null,
   "id": "b56e8d08",
   "metadata": {},
   "outputs": [],
   "source": []
  },
  {
   "cell_type": "code",
   "execution_count": null,
   "id": "869729ba",
   "metadata": {},
   "outputs": [],
   "source": []
  },
  {
   "cell_type": "code",
   "execution_count": null,
   "id": "c9a04a04",
   "metadata": {},
   "outputs": [],
   "source": []
  }
 ],
 "metadata": {
  "kernelspec": {
   "display_name": "Python 3 (ipykernel)",
   "language": "python",
   "name": "python3"
  },
  "language_info": {
   "codemirror_mode": {
    "name": "ipython",
    "version": 3
   },
   "file_extension": ".py",
   "mimetype": "text/x-python",
   "name": "python",
   "nbconvert_exporter": "python",
   "pygments_lexer": "ipython3",
   "version": "3.9.12"
  }
 },
 "nbformat": 4,
 "nbformat_minor": 5
}
